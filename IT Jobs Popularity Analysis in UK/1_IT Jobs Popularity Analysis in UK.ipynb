{
 "cells": [
  {
   "cell_type": "code",
   "execution_count": 100,
   "metadata": {},
   "outputs": [
    {
     "name": "stdout",
     "output_type": "stream",
     "text": [
      "['Agile Software Development jobs', 'Developer jobs', 'Financial jobs', 'SQL (Structured Query Language) jobs', 'JavaScript (including ECMAScript) jobs', 'C# jobs', 'Microsoft jobs', 'Java jobs', 'Microsoft .NET (dotNet) jobs', 'Microsoft Windows jobs', 'Analyst jobs', 'Microsoft SQL Server (MS SQL) jobs', 'HTML (including XHTML, DHTML & HTML5) jobs', 'Academic Degree jobs', 'Microsoft Azure (formerly Windows Azure) jobs', 'CSS (Cascading Style Sheets) jobs', 'Python jobs', 'Linux jobs', 'Amazon Web Services (AWS) jobs', 'Problem-Solving jobs', 'Software Engineering jobs', 'Scrum jobs', 'DevOps jobs', 'Test-Driven Development (TDD) jobs', 'Model-View-Controller (MVC) jobs', 'Angular jobs', 'Analytical Skills jobs', 'Project Management jobs', 'Automated Testing jobs', 'Microsoft Active Directory jobs']\n",
      "['Application Platforms', 'Applications', 'Business Applications', 'Cloud Services', 'Communications & Networking', 'Database & Business Intelligence', 'Development Applications', 'General', 'Job Titles', 'Libraries, Frameworks & Software Standards', 'Miscellaneous', 'Operating Systems', 'Processes & Methodologies', 'Programming Languages', 'Qualifications', 'Quality Assurance & Compliance', 'System Software', 'Systems Management', 'Vendors']\n"
     ]
    }
   ],
   "source": [
    "import pandas as pd\n",
    "import requests\n",
    "from bs4 import BeautifulSoup\n",
    "import csv\n",
    "from lxml import html\n",
    "\n",
    "\n",
    "Permanent_IT_Jobs_List = []\n",
    "Permanent_IT_Jobs_Link_List = []  \n",
    "skill_set_list= []\n",
    "it_by_category_list=[]\n",
    "cat_value_list=[]\n",
    "\n",
    "main_url=\"http://www.itjobswatch.co.uk\"\n",
    "for page_number in range (1, 2):\n",
    "    #Getting html text page by page changing page number\n",
    "    my_url = ( \"https://www.itjobswatch.co.uk/default.aspx?page={}\".format(page_number) + \"&sortby=0&orderby=0&q=&id=0&lid=2618\" )\n",
    "    \n",
    "    r1 = requests.get(my_url)\n",
    "    soup=BeautifulSoup(r1.text, 'html.parser')\n",
    "    \n",
    "    for permanent_IT_Jobs in soup.find_all (\"td\", attrs={\"class\":\"c2\"}):\n",
    "        Permanent_IT_Jobs_List.append(permanent_IT_Jobs.a[\"title\"])\n",
    "        Permanent_IT_Jobs_Link_List.append(permanent_IT_Jobs.a[\"href\"])\n",
    "        \n",
    "        r2 = requests.get(main_url+permanent_IT_Jobs.a[\"href\"])\n",
    "        soup=BeautifulSoup(r2.text, 'html.parser')\n",
    "        it_by_category in soup.find_all(\"ul\", attrs={\"id\":\"skill-set-nav\"})\n",
    "    \n",
    "    for it_by_cat in it_by_category:\n",
    "        it_by_category_list.append(it_by_cat.text)\n",
    " #          \n",
    " #  for it_by_cat in it_by_category_list:\n",
    " #      skill_set=soup.find_all(\"table\", attrs={\"id\":\"Skill-Set-{}\".format(it_by_cat)})\n",
    " #      cat_value=skill_set.find_all(\"td\", attrs={\"class\":\"cd\"})\n",
    " #      cat_value_list.append(cat_value.text)\n",
    " #      \n",
    "\n",
    "print(Permanent_IT_Jobs_List)\n",
    "#print(Permanent_IT_Jobs_Link_List)  \n",
    "#print(skill_set_list)\n",
    "print(it_by_category_list)"
   ]
  },
  {
   "cell_type": "code",
   "execution_count": 118,
   "metadata": {},
   "outputs": [
    {
     "name": "stdout",
     "output_type": "stream",
     "text": [
      "<class 'bs4.element.ResultSet'>\n"
     ]
    },
    {
     "ename": "AttributeError",
     "evalue": "ResultSet object has no attribute 'find'. You're probably treating a list of items like a single item. Did you call find_all() when you meant to call find()?",
     "output_type": "error",
     "traceback": [
      "\u001b[1;31m---------------------------------------------------------------------------\u001b[0m",
      "\u001b[1;31mAttributeError\u001b[0m                            Traceback (most recent call last)",
      "\u001b[1;32m<ipython-input-118-4b9500a00f5f>\u001b[0m in \u001b[0;36m<module>\u001b[1;34m()\u001b[0m\n\u001b[0;32m      4\u001b[0m \u001b[1;31m#print(skill_set[1])\u001b[0m\u001b[1;33m\u001b[0m\u001b[1;33m\u001b[0m\u001b[0m\n\u001b[0;32m      5\u001b[0m \u001b[0mprint\u001b[0m\u001b[1;33m(\u001b[0m\u001b[0mtype\u001b[0m\u001b[1;33m(\u001b[0m\u001b[0mskill_set\u001b[0m\u001b[1;33m)\u001b[0m\u001b[1;33m)\u001b[0m\u001b[1;33m\u001b[0m\u001b[0m\n\u001b[1;32m----> 6\u001b[1;33m \u001b[0mkk\u001b[0m\u001b[1;33m=\u001b[0m\u001b[0mskill_set\u001b[0m\u001b[1;33m.\u001b[0m\u001b[0mfind\u001b[0m\u001b[1;33m(\u001b[0m\u001b[1;34m\"td\"\u001b[0m\u001b[1;33m,\u001b[0m \u001b[0mattrs\u001b[0m\u001b[1;33m=\u001b[0m\u001b[1;33m{\u001b[0m\u001b[1;34m\"class\"\u001b[0m\u001b[1;33m:\u001b[0m\u001b[1;34m\"cd\"\u001b[0m\u001b[1;33m}\u001b[0m\u001b[1;33m)\u001b[0m\u001b[1;33m\u001b[0m\u001b[0m\n\u001b[0m\u001b[0;32m      7\u001b[0m \u001b[0mprint\u001b[0m\u001b[1;33m(\u001b[0m\u001b[0mkk\u001b[0m\u001b[1;33m,\u001b[0m\u001b[1;34m\"\\n\"\u001b[0m\u001b[1;33m,\u001b[0m\u001b[1;34m\"\\n\"\u001b[0m\u001b[1;33m,\u001b[0m\u001b[1;34m\"\\n\"\u001b[0m\u001b[1;33m,\u001b[0m\u001b[1;34m\"\\n\"\u001b[0m\u001b[1;33m,\u001b[0m\u001b[1;34m\"\\n\"\u001b[0m\u001b[1;33m)\u001b[0m\u001b[1;33m\u001b[0m\u001b[0m\n\u001b[0;32m      8\u001b[0m \u001b[1;31m#    ttlist.append(kk.find_all(\"td\", attrs={\"class\":\"cd\"}).text):\u001b[0m\u001b[1;33m\u001b[0m\u001b[1;33m\u001b[0m\u001b[0m\n",
      "\u001b[1;32m~\\Anaconda3\\lib\\site-packages\\bs4\\element.py\u001b[0m in \u001b[0;36m__getattr__\u001b[1;34m(self, key)\u001b[0m\n\u001b[0;32m   1882\u001b[0m     \u001b[1;32mdef\u001b[0m \u001b[0m__getattr__\u001b[0m\u001b[1;33m(\u001b[0m\u001b[0mself\u001b[0m\u001b[1;33m,\u001b[0m \u001b[0mkey\u001b[0m\u001b[1;33m)\u001b[0m\u001b[1;33m:\u001b[0m\u001b[1;33m\u001b[0m\u001b[0m\n\u001b[0;32m   1883\u001b[0m         raise AttributeError(\n\u001b[1;32m-> 1884\u001b[1;33m             \u001b[1;34m\"ResultSet object has no attribute '%s'. You're probably treating a list of items like a single item. Did you call find_all() when you meant to call find()?\"\u001b[0m \u001b[1;33m%\u001b[0m \u001b[0mkey\u001b[0m\u001b[1;33m\u001b[0m\u001b[0m\n\u001b[0m\u001b[0;32m   1885\u001b[0m         )\n",
      "\u001b[1;31mAttributeError\u001b[0m: ResultSet object has no attribute 'find'. You're probably treating a list of items like a single item. Did you call find_all() when you meant to call find()?"
     ]
    }
   ],
   "source": [
    "ttlist=[]\n",
    "uulist=[]\n",
    "skill_set=soup.find_all(\"table\", attrs={\"id\":\"Skill-Set-Programming-Languages\"})\n",
    "#print(skill_set[1])\n",
    "print(type(skill_set))\n",
    "kk=skill_set. find_all(\"td\", attrs={\"class\":\"cd\"})\n",
    "print(kk,\"\\n\",\"\\n\",\"\\n\",\"\\n\",\"\\n\")\n",
    "#    ttlist.append(kk.find_all(\"td\", attrs={\"class\":\"cd\"}).text):\n",
    " #           ttlist.append(tt.text)\n",
    "#    for uu in kk.find_all(\"td\", attrs={\"class\":\"cr\"}):\n",
    " #           uulist.append(uu.text)\n",
    "#for i in range (0, len(ttlist)):\n",
    " #   print(uulist[i],\" \", ttlist[i]) \n",
    "#kk= skill_set.find_all(\"td\", attrs={\"class\":\"cd\"})\n",
    "\n",
    "#aa=skill_set.find_all(\"td\", attrs={\"class\":\"cd\"})\n",
    "#for kk in aa:\n",
    "#    print(kk.text)\n",
    "#        #cat_value=skill_set.find_all(\"td\", attrs={\"class\":\"cd\"})\n",
    "        #cat_value_list.append(cat_value.text)\n",
    "#print(cat_value_list)"
   ]
  },
  {
   "cell_type": "code",
   "execution_count": null,
   "metadata": {},
   "outputs": [],
   "source": []
  }
 ],
 "metadata": {
  "kernelspec": {
   "display_name": "Python 3",
   "language": "python",
   "name": "python3"
  },
  "language_info": {
   "codemirror_mode": {
    "name": "ipython",
    "version": 3
   },
   "file_extension": ".py",
   "mimetype": "text/x-python",
   "name": "python",
   "nbconvert_exporter": "python",
   "pygments_lexer": "ipython3",
   "version": "3.7.0"
  }
 },
 "nbformat": 4,
 "nbformat_minor": 2
}
