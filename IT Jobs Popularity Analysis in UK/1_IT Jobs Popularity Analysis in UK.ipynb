{
 "cells": [
  {
   "cell_type": "code",
   "execution_count": null,
   "metadata": {},
   "outputs": [],
   "source": [
    "import pandas as pd\n",
    "import requests\n",
    "from bs4 import BeautifulSoup\n",
    "\n",
    "\n",
    "Permanent_IT_Jobs_List = []\n",
    "Permanent_IT_Jobs_Link_List = []  \n",
    "skill_set_list= []\n",
    "it_by_category_list=[]\n",
    "cat_value_list=[]\n",
    "link_list=[]\n",
    "\n",
    "main_url=\"http://www.itjobswatch.co.uk\"\n",
    "for page_number in range (1, 2):\n",
    "    #Getting html text page by page changing page number\n",
    "    my_url = (\"https://www.itjobswatch.co.uk/default.aspx?page={}\".format(page_number) + \"&sortby=0&orderby=0&q=&id=0&lid=2618\")\n",
    "    \n",
    "    page = requests.get(my_url).text\n",
    "    soup=BeautifulSoup (page, \"html.parser\")\n",
    "    for aa in soup.findAll(\"td\", \"c2\"):\n",
    "        for bb in aa.findAll(\"a\"):\n",
    "            link_list.append(main_url + bb.get(\"href\"))\n",
    "    \n",
    "        for child_counter in range (0, len(link_list)):\n",
    "            child_page=requests.get(link_list[child_counter]).text\n",
    "            child_soup=BeautifulSoup(child_page, \"html.parser\")\n",
    "            \n",
    "            app_list=[]\n",
    "            for kk in child_soup.findAll(\"ul\")[2].findAll(\"a\"):\n",
    "                app_list.append(kk.text)\n",
    "            print(app_list[0])\n",
    "            \n",
    "   # print(child_soup.findAll(\"td\",\"tabRelatedGroupsContainer\")[1])"
   ]
  },
  {
   "cell_type": "code",
   "execution_count": null,
   "metadata": {},
   "outputs": [],
   "source": []
  }
 ],
 "metadata": {
  "kernelspec": {
   "display_name": "Python 3",
   "language": "python",
   "name": "python3"
  },
  "language_info": {
   "codemirror_mode": {
    "name": "ipython",
    "version": 3
   },
   "file_extension": ".py",
   "mimetype": "text/x-python",
   "name": "python",
   "nbconvert_exporter": "python",
   "pygments_lexer": "ipython3",
   "version": "3.7.0"
  }
 },
 "nbformat": 4,
 "nbformat_minor": 2
}
