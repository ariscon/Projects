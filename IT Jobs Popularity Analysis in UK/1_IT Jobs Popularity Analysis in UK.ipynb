{
 "cells": [
  {
   "cell_type": "code",
   "execution_count": 1,
   "metadata": {},
   "outputs": [
    {
     "name": "stdout",
     "output_type": "stream",
     "text": [
      "[]\n"
     ]
    }
   ],
   "source": [
    "import pandas as pd\n",
    "import requests\n",
    "from bs4 import BeautifulSoup\n",
    "import csv\n",
    "from lxml import html\n",
    "\n",
    "\n",
    "Permanent_IT_Jobs_List = []\n",
    "Permanent_IT_Jobs_Link_List = []  \n",
    "skill_set_list= []\n",
    "it_by_category_list=[]\n",
    "cat_value_list=[]\n",
    "\n",
    "main_url=\"http://www.itjobswatch.co.uk\"\n",
    "for page_number in range (1, 2):\n",
    "    #Getting html text page by page changing page number\n",
    "    my_url = (\"https://www.itjobswatch.co.uk/default.aspx?page={}\".format(page_number) + \"&sortby=0&orderby=0&q=&id=0&lid=2618\")\n",
    "    \n",
    "    r1 = requests.get(my_url)\n",
    "    soup=BeautifulSoup(r1.text, 'html.parser') \n",
    "    #print(soup)\n",
    "    #Permanent IT Jobs List\n",
    "    permanent_IT_Jobs= soup.findChildren('div', attrs={'class':'container'})\n",
    "    print(permanent_IT_Jobs)\n",
    "    for aa in permanent_IT_Jobs:\n",
    "        print(aa)\n",
    "  #  aa= permanent_IT_Jobs.find(\"table\", attrs={\"class\":\"tab\"})\n",
    "  #bb= aa.find(\"td\", attrs={\"class\":\"tabRelatedGroupsContainer\"})\n",
    "  #cc= bb.find(\"td\", attrs={\"class\":\"cd\"})\n",
    "  #\n",
    "    \n",
    "   # permanent_IT_Jobs= soup.find_all(\"table\", attrs={\"class\":\"statisticsContainer\"}).find_all(\"table\", attrs={\"class\":\"tab\"}).find_all(\"td\", attrs={\"class\":\"tabRelatedGroupsContainer\"}).find_all(\"td\", attrs={\"class\":\"cd\"})\n",
    "\n",
    "   #     for IT_Skills in permanent_IT_Jobs.find_all(\"table\", attrs={\"class\":\"tab\"}):\n",
    "   #         print(IT_Skills.text)\n",
    "           \n",
    "            \n",
    "            \n",
    "           \n",
    "  #         Jobs_List.append(permanent_IT_Jobs.a[\"title\"])\n",
    "  #     Permanent_IT_Jobs_Link_List.append(permanent_IT_Jobs.a[\"href\"])\n",
    "  #     \n",
    "  #     #Job details by category for each Permanent IT Job\n",
    "  #     r2 = requests.get(main_url+permanent_IT_Jobs.a[\"href\"])\n",
    "  #     soup=BeautifulSoup(r2.text, 'html.parser')\n",
    "  #     for it_by_category in soup.find_all(\"table\", attrs={\"class\":\"tab\"}):\n",
    "  #         for table in it_by_category.find_all(\"td\", attrs={\"class\":\"cd\"}):\n",
    "  #             it_by_category_list.append(table.a.text)\n",
    "     "
   ]
  },
  {
   "cell_type": "code",
   "execution_count": null,
   "metadata": {},
   "outputs": [],
   "source": []
  }
 ],
 "metadata": {
  "kernelspec": {
   "display_name": "Python 3",
   "language": "python",
   "name": "python3"
  },
  "language_info": {
   "codemirror_mode": {
    "name": "ipython",
    "version": 3
   },
   "file_extension": ".py",
   "mimetype": "text/x-python",
   "name": "python",
   "nbconvert_exporter": "python",
   "pygments_lexer": "ipython3",
   "version": "3.7.0"
  }
 },
 "nbformat": 4,
 "nbformat_minor": 2
}
